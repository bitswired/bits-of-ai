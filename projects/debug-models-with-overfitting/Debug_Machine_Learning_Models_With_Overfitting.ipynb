{
  "nbformat": 4,
  "nbformat_minor": 0,
  "metadata": {
    "colab": {
      "name": "Debug Machine Learning Models With Overfitting.ipynb",
      "provenance": [],
      "collapsed_sections": [],
      "authorship_tag": "ABX9TyNDQ9fuA7DaG5ELAUfWZ2Yk",
      "include_colab_link": true
    },
    "kernelspec": {
      "name": "python3",
      "display_name": "Python 3"
    },
    "language_info": {
      "name": "python"
    },
    "widgets": {
      "application/vnd.jupyter.widget-state+json": {
        "97431d7671f8463b904645071d3ebbe1": {
          "model_module": "@jupyter-widgets/controls",
          "model_name": "HBoxModel",
          "model_module_version": "1.5.0",
          "state": {
            "_dom_classes": [],
            "_model_module": "@jupyter-widgets/controls",
            "_model_module_version": "1.5.0",
            "_model_name": "HBoxModel",
            "_view_count": null,
            "_view_module": "@jupyter-widgets/controls",
            "_view_module_version": "1.5.0",
            "_view_name": "HBoxView",
            "box_style": "",
            "children": [
              "IPY_MODEL_44d697e50e574efc8607636b1e02512f",
              "IPY_MODEL_2e380d0307e34a1997cba63f35f8e5fd",
              "IPY_MODEL_ffdea2bebdc54687af76fb516e5611e4"
            ],
            "layout": "IPY_MODEL_396550ded76d4f26b7b6e95c2bf2a3f4"
          }
        },
        "44d697e50e574efc8607636b1e02512f": {
          "model_module": "@jupyter-widgets/controls",
          "model_name": "HTMLModel",
          "model_module_version": "1.5.0",
          "state": {
            "_dom_classes": [],
            "_model_module": "@jupyter-widgets/controls",
            "_model_module_version": "1.5.0",
            "_model_name": "HTMLModel",
            "_view_count": null,
            "_view_module": "@jupyter-widgets/controls",
            "_view_module_version": "1.5.0",
            "_view_name": "HTMLView",
            "description": "",
            "description_tooltip": null,
            "layout": "IPY_MODEL_a1911c40fda44cc58ba999414f1dad64",
            "placeholder": "​",
            "style": "IPY_MODEL_5b3ce075ee0c42ebbbfc7aca74797fcd",
            "value": "Epoch 999: 100%"
          }
        },
        "2e380d0307e34a1997cba63f35f8e5fd": {
          "model_module": "@jupyter-widgets/controls",
          "model_name": "FloatProgressModel",
          "model_module_version": "1.5.0",
          "state": {
            "_dom_classes": [],
            "_model_module": "@jupyter-widgets/controls",
            "_model_module_version": "1.5.0",
            "_model_name": "FloatProgressModel",
            "_view_count": null,
            "_view_module": "@jupyter-widgets/controls",
            "_view_module_version": "1.5.0",
            "_view_name": "ProgressView",
            "bar_style": "success",
            "description": "",
            "description_tooltip": null,
            "layout": "IPY_MODEL_2c73136cb1cc47e38951df761d0c2e95",
            "max": 5,
            "min": 0,
            "orientation": "horizontal",
            "style": "IPY_MODEL_87c31ce1b88c4445a267b5ec5571a95a",
            "value": 5
          }
        },
        "ffdea2bebdc54687af76fb516e5611e4": {
          "model_module": "@jupyter-widgets/controls",
          "model_name": "HTMLModel",
          "model_module_version": "1.5.0",
          "state": {
            "_dom_classes": [],
            "_model_module": "@jupyter-widgets/controls",
            "_model_module_version": "1.5.0",
            "_model_name": "HTMLModel",
            "_view_count": null,
            "_view_module": "@jupyter-widgets/controls",
            "_view_module_version": "1.5.0",
            "_view_name": "HTMLView",
            "description": "",
            "description_tooltip": null,
            "layout": "IPY_MODEL_92a7354130c0449b9b6133e9d34afcbd",
            "placeholder": "​",
            "style": "IPY_MODEL_8229cf90d1644525a4d7a7e3eacd2b18",
            "value": " 5/5 [00:00&lt;00:00, 100.53it/s, loss=0.525, v_num=30]"
          }
        },
        "396550ded76d4f26b7b6e95c2bf2a3f4": {
          "model_module": "@jupyter-widgets/base",
          "model_name": "LayoutModel",
          "model_module_version": "1.2.0",
          "state": {
            "_model_module": "@jupyter-widgets/base",
            "_model_module_version": "1.2.0",
            "_model_name": "LayoutModel",
            "_view_count": null,
            "_view_module": "@jupyter-widgets/base",
            "_view_module_version": "1.2.0",
            "_view_name": "LayoutView",
            "align_content": null,
            "align_items": null,
            "align_self": null,
            "border": null,
            "bottom": null,
            "display": "inline-flex",
            "flex": null,
            "flex_flow": "row wrap",
            "grid_area": null,
            "grid_auto_columns": null,
            "grid_auto_flow": null,
            "grid_auto_rows": null,
            "grid_column": null,
            "grid_gap": null,
            "grid_row": null,
            "grid_template_areas": null,
            "grid_template_columns": null,
            "grid_template_rows": null,
            "height": null,
            "justify_content": null,
            "justify_items": null,
            "left": null,
            "margin": null,
            "max_height": null,
            "max_width": null,
            "min_height": null,
            "min_width": null,
            "object_fit": null,
            "object_position": null,
            "order": null,
            "overflow": null,
            "overflow_x": null,
            "overflow_y": null,
            "padding": null,
            "right": null,
            "top": null,
            "visibility": null,
            "width": "100%"
          }
        },
        "a1911c40fda44cc58ba999414f1dad64": {
          "model_module": "@jupyter-widgets/base",
          "model_name": "LayoutModel",
          "model_module_version": "1.2.0",
          "state": {
            "_model_module": "@jupyter-widgets/base",
            "_model_module_version": "1.2.0",
            "_model_name": "LayoutModel",
            "_view_count": null,
            "_view_module": "@jupyter-widgets/base",
            "_view_module_version": "1.2.0",
            "_view_name": "LayoutView",
            "align_content": null,
            "align_items": null,
            "align_self": null,
            "border": null,
            "bottom": null,
            "display": null,
            "flex": null,
            "flex_flow": null,
            "grid_area": null,
            "grid_auto_columns": null,
            "grid_auto_flow": null,
            "grid_auto_rows": null,
            "grid_column": null,
            "grid_gap": null,
            "grid_row": null,
            "grid_template_areas": null,
            "grid_template_columns": null,
            "grid_template_rows": null,
            "height": null,
            "justify_content": null,
            "justify_items": null,
            "left": null,
            "margin": null,
            "max_height": null,
            "max_width": null,
            "min_height": null,
            "min_width": null,
            "object_fit": null,
            "object_position": null,
            "order": null,
            "overflow": null,
            "overflow_x": null,
            "overflow_y": null,
            "padding": null,
            "right": null,
            "top": null,
            "visibility": null,
            "width": null
          }
        },
        "5b3ce075ee0c42ebbbfc7aca74797fcd": {
          "model_module": "@jupyter-widgets/controls",
          "model_name": "DescriptionStyleModel",
          "model_module_version": "1.5.0",
          "state": {
            "_model_module": "@jupyter-widgets/controls",
            "_model_module_version": "1.5.0",
            "_model_name": "DescriptionStyleModel",
            "_view_count": null,
            "_view_module": "@jupyter-widgets/base",
            "_view_module_version": "1.2.0",
            "_view_name": "StyleView",
            "description_width": ""
          }
        },
        "2c73136cb1cc47e38951df761d0c2e95": {
          "model_module": "@jupyter-widgets/base",
          "model_name": "LayoutModel",
          "model_module_version": "1.2.0",
          "state": {
            "_model_module": "@jupyter-widgets/base",
            "_model_module_version": "1.2.0",
            "_model_name": "LayoutModel",
            "_view_count": null,
            "_view_module": "@jupyter-widgets/base",
            "_view_module_version": "1.2.0",
            "_view_name": "LayoutView",
            "align_content": null,
            "align_items": null,
            "align_self": null,
            "border": null,
            "bottom": null,
            "display": null,
            "flex": "2",
            "flex_flow": null,
            "grid_area": null,
            "grid_auto_columns": null,
            "grid_auto_flow": null,
            "grid_auto_rows": null,
            "grid_column": null,
            "grid_gap": null,
            "grid_row": null,
            "grid_template_areas": null,
            "grid_template_columns": null,
            "grid_template_rows": null,
            "height": null,
            "justify_content": null,
            "justify_items": null,
            "left": null,
            "margin": null,
            "max_height": null,
            "max_width": null,
            "min_height": null,
            "min_width": null,
            "object_fit": null,
            "object_position": null,
            "order": null,
            "overflow": null,
            "overflow_x": null,
            "overflow_y": null,
            "padding": null,
            "right": null,
            "top": null,
            "visibility": null,
            "width": null
          }
        },
        "87c31ce1b88c4445a267b5ec5571a95a": {
          "model_module": "@jupyter-widgets/controls",
          "model_name": "ProgressStyleModel",
          "model_module_version": "1.5.0",
          "state": {
            "_model_module": "@jupyter-widgets/controls",
            "_model_module_version": "1.5.0",
            "_model_name": "ProgressStyleModel",
            "_view_count": null,
            "_view_module": "@jupyter-widgets/base",
            "_view_module_version": "1.2.0",
            "_view_name": "StyleView",
            "bar_color": null,
            "description_width": ""
          }
        },
        "92a7354130c0449b9b6133e9d34afcbd": {
          "model_module": "@jupyter-widgets/base",
          "model_name": "LayoutModel",
          "model_module_version": "1.2.0",
          "state": {
            "_model_module": "@jupyter-widgets/base",
            "_model_module_version": "1.2.0",
            "_model_name": "LayoutModel",
            "_view_count": null,
            "_view_module": "@jupyter-widgets/base",
            "_view_module_version": "1.2.0",
            "_view_name": "LayoutView",
            "align_content": null,
            "align_items": null,
            "align_self": null,
            "border": null,
            "bottom": null,
            "display": null,
            "flex": null,
            "flex_flow": null,
            "grid_area": null,
            "grid_auto_columns": null,
            "grid_auto_flow": null,
            "grid_auto_rows": null,
            "grid_column": null,
            "grid_gap": null,
            "grid_row": null,
            "grid_template_areas": null,
            "grid_template_columns": null,
            "grid_template_rows": null,
            "height": null,
            "justify_content": null,
            "justify_items": null,
            "left": null,
            "margin": null,
            "max_height": null,
            "max_width": null,
            "min_height": null,
            "min_width": null,
            "object_fit": null,
            "object_position": null,
            "order": null,
            "overflow": null,
            "overflow_x": null,
            "overflow_y": null,
            "padding": null,
            "right": null,
            "top": null,
            "visibility": null,
            "width": null
          }
        },
        "8229cf90d1644525a4d7a7e3eacd2b18": {
          "model_module": "@jupyter-widgets/controls",
          "model_name": "DescriptionStyleModel",
          "model_module_version": "1.5.0",
          "state": {
            "_model_module": "@jupyter-widgets/controls",
            "_model_module_version": "1.5.0",
            "_model_name": "DescriptionStyleModel",
            "_view_count": null,
            "_view_module": "@jupyter-widgets/base",
            "_view_module_version": "1.2.0",
            "_view_name": "StyleView",
            "description_width": ""
          }
        },
        "87906d4807c74fdfaad1e9e5de671945": {
          "model_module": "@jupyter-widgets/controls",
          "model_name": "HBoxModel",
          "model_module_version": "1.5.0",
          "state": {
            "_dom_classes": [],
            "_model_module": "@jupyter-widgets/controls",
            "_model_module_version": "1.5.0",
            "_model_name": "HBoxModel",
            "_view_count": null,
            "_view_module": "@jupyter-widgets/controls",
            "_view_module_version": "1.5.0",
            "_view_name": "HBoxView",
            "box_style": "",
            "children": [
              "IPY_MODEL_0189277d06b04a86b71fe468c8bcc045",
              "IPY_MODEL_8cfef91ac6aa4156bae8ef955498caae",
              "IPY_MODEL_e909922d7bc34234b5da5ed83fb007c4"
            ],
            "layout": "IPY_MODEL_8fe98dab2f5844a6919227a1c0c168ca"
          }
        },
        "0189277d06b04a86b71fe468c8bcc045": {
          "model_module": "@jupyter-widgets/controls",
          "model_name": "HTMLModel",
          "model_module_version": "1.5.0",
          "state": {
            "_dom_classes": [],
            "_model_module": "@jupyter-widgets/controls",
            "_model_module_version": "1.5.0",
            "_model_name": "HTMLModel",
            "_view_count": null,
            "_view_module": "@jupyter-widgets/controls",
            "_view_module_version": "1.5.0",
            "_view_name": "HTMLView",
            "description": "",
            "description_tooltip": null,
            "layout": "IPY_MODEL_3a02aa20f5134a59986ff562efac189e",
            "placeholder": "​",
            "style": "IPY_MODEL_673ad122d83c42eeb2eb08d5099bd86a",
            "value": "Epoch 999: 100%"
          }
        },
        "8cfef91ac6aa4156bae8ef955498caae": {
          "model_module": "@jupyter-widgets/controls",
          "model_name": "FloatProgressModel",
          "model_module_version": "1.5.0",
          "state": {
            "_dom_classes": [],
            "_model_module": "@jupyter-widgets/controls",
            "_model_module_version": "1.5.0",
            "_model_name": "FloatProgressModel",
            "_view_count": null,
            "_view_module": "@jupyter-widgets/controls",
            "_view_module_version": "1.5.0",
            "_view_name": "ProgressView",
            "bar_style": "success",
            "description": "",
            "description_tooltip": null,
            "layout": "IPY_MODEL_9412e6ff24ff4f66b89c9b67ca27b518",
            "max": 5,
            "min": 0,
            "orientation": "horizontal",
            "style": "IPY_MODEL_ad0f71ef2325454b975c350c93eba47e",
            "value": 5
          }
        },
        "e909922d7bc34234b5da5ed83fb007c4": {
          "model_module": "@jupyter-widgets/controls",
          "model_name": "HTMLModel",
          "model_module_version": "1.5.0",
          "state": {
            "_dom_classes": [],
            "_model_module": "@jupyter-widgets/controls",
            "_model_module_version": "1.5.0",
            "_model_name": "HTMLModel",
            "_view_count": null,
            "_view_module": "@jupyter-widgets/controls",
            "_view_module_version": "1.5.0",
            "_view_name": "HTMLView",
            "description": "",
            "description_tooltip": null,
            "layout": "IPY_MODEL_9e5f07499c47437e8f129d45040c200c",
            "placeholder": "​",
            "style": "IPY_MODEL_6456b697c3f74a078f759de98d09a225",
            "value": " 5/5 [00:00&lt;00:00, 87.68it/s, loss=0.0115, v_num=31]"
          }
        },
        "8fe98dab2f5844a6919227a1c0c168ca": {
          "model_module": "@jupyter-widgets/base",
          "model_name": "LayoutModel",
          "model_module_version": "1.2.0",
          "state": {
            "_model_module": "@jupyter-widgets/base",
            "_model_module_version": "1.2.0",
            "_model_name": "LayoutModel",
            "_view_count": null,
            "_view_module": "@jupyter-widgets/base",
            "_view_module_version": "1.2.0",
            "_view_name": "LayoutView",
            "align_content": null,
            "align_items": null,
            "align_self": null,
            "border": null,
            "bottom": null,
            "display": "inline-flex",
            "flex": null,
            "flex_flow": "row wrap",
            "grid_area": null,
            "grid_auto_columns": null,
            "grid_auto_flow": null,
            "grid_auto_rows": null,
            "grid_column": null,
            "grid_gap": null,
            "grid_row": null,
            "grid_template_areas": null,
            "grid_template_columns": null,
            "grid_template_rows": null,
            "height": null,
            "justify_content": null,
            "justify_items": null,
            "left": null,
            "margin": null,
            "max_height": null,
            "max_width": null,
            "min_height": null,
            "min_width": null,
            "object_fit": null,
            "object_position": null,
            "order": null,
            "overflow": null,
            "overflow_x": null,
            "overflow_y": null,
            "padding": null,
            "right": null,
            "top": null,
            "visibility": null,
            "width": "100%"
          }
        },
        "3a02aa20f5134a59986ff562efac189e": {
          "model_module": "@jupyter-widgets/base",
          "model_name": "LayoutModel",
          "model_module_version": "1.2.0",
          "state": {
            "_model_module": "@jupyter-widgets/base",
            "_model_module_version": "1.2.0",
            "_model_name": "LayoutModel",
            "_view_count": null,
            "_view_module": "@jupyter-widgets/base",
            "_view_module_version": "1.2.0",
            "_view_name": "LayoutView",
            "align_content": null,
            "align_items": null,
            "align_self": null,
            "border": null,
            "bottom": null,
            "display": null,
            "flex": null,
            "flex_flow": null,
            "grid_area": null,
            "grid_auto_columns": null,
            "grid_auto_flow": null,
            "grid_auto_rows": null,
            "grid_column": null,
            "grid_gap": null,
            "grid_row": null,
            "grid_template_areas": null,
            "grid_template_columns": null,
            "grid_template_rows": null,
            "height": null,
            "justify_content": null,
            "justify_items": null,
            "left": null,
            "margin": null,
            "max_height": null,
            "max_width": null,
            "min_height": null,
            "min_width": null,
            "object_fit": null,
            "object_position": null,
            "order": null,
            "overflow": null,
            "overflow_x": null,
            "overflow_y": null,
            "padding": null,
            "right": null,
            "top": null,
            "visibility": null,
            "width": null
          }
        },
        "673ad122d83c42eeb2eb08d5099bd86a": {
          "model_module": "@jupyter-widgets/controls",
          "model_name": "DescriptionStyleModel",
          "model_module_version": "1.5.0",
          "state": {
            "_model_module": "@jupyter-widgets/controls",
            "_model_module_version": "1.5.0",
            "_model_name": "DescriptionStyleModel",
            "_view_count": null,
            "_view_module": "@jupyter-widgets/base",
            "_view_module_version": "1.2.0",
            "_view_name": "StyleView",
            "description_width": ""
          }
        },
        "9412e6ff24ff4f66b89c9b67ca27b518": {
          "model_module": "@jupyter-widgets/base",
          "model_name": "LayoutModel",
          "model_module_version": "1.2.0",
          "state": {
            "_model_module": "@jupyter-widgets/base",
            "_model_module_version": "1.2.0",
            "_model_name": "LayoutModel",
            "_view_count": null,
            "_view_module": "@jupyter-widgets/base",
            "_view_module_version": "1.2.0",
            "_view_name": "LayoutView",
            "align_content": null,
            "align_items": null,
            "align_self": null,
            "border": null,
            "bottom": null,
            "display": null,
            "flex": "2",
            "flex_flow": null,
            "grid_area": null,
            "grid_auto_columns": null,
            "grid_auto_flow": null,
            "grid_auto_rows": null,
            "grid_column": null,
            "grid_gap": null,
            "grid_row": null,
            "grid_template_areas": null,
            "grid_template_columns": null,
            "grid_template_rows": null,
            "height": null,
            "justify_content": null,
            "justify_items": null,
            "left": null,
            "margin": null,
            "max_height": null,
            "max_width": null,
            "min_height": null,
            "min_width": null,
            "object_fit": null,
            "object_position": null,
            "order": null,
            "overflow": null,
            "overflow_x": null,
            "overflow_y": null,
            "padding": null,
            "right": null,
            "top": null,
            "visibility": null,
            "width": null
          }
        },
        "ad0f71ef2325454b975c350c93eba47e": {
          "model_module": "@jupyter-widgets/controls",
          "model_name": "ProgressStyleModel",
          "model_module_version": "1.5.0",
          "state": {
            "_model_module": "@jupyter-widgets/controls",
            "_model_module_version": "1.5.0",
            "_model_name": "ProgressStyleModel",
            "_view_count": null,
            "_view_module": "@jupyter-widgets/base",
            "_view_module_version": "1.2.0",
            "_view_name": "StyleView",
            "bar_color": null,
            "description_width": ""
          }
        },
        "9e5f07499c47437e8f129d45040c200c": {
          "model_module": "@jupyter-widgets/base",
          "model_name": "LayoutModel",
          "model_module_version": "1.2.0",
          "state": {
            "_model_module": "@jupyter-widgets/base",
            "_model_module_version": "1.2.0",
            "_model_name": "LayoutModel",
            "_view_count": null,
            "_view_module": "@jupyter-widgets/base",
            "_view_module_version": "1.2.0",
            "_view_name": "LayoutView",
            "align_content": null,
            "align_items": null,
            "align_self": null,
            "border": null,
            "bottom": null,
            "display": null,
            "flex": null,
            "flex_flow": null,
            "grid_area": null,
            "grid_auto_columns": null,
            "grid_auto_flow": null,
            "grid_auto_rows": null,
            "grid_column": null,
            "grid_gap": null,
            "grid_row": null,
            "grid_template_areas": null,
            "grid_template_columns": null,
            "grid_template_rows": null,
            "height": null,
            "justify_content": null,
            "justify_items": null,
            "left": null,
            "margin": null,
            "max_height": null,
            "max_width": null,
            "min_height": null,
            "min_width": null,
            "object_fit": null,
            "object_position": null,
            "order": null,
            "overflow": null,
            "overflow_x": null,
            "overflow_y": null,
            "padding": null,
            "right": null,
            "top": null,
            "visibility": null,
            "width": null
          }
        },
        "6456b697c3f74a078f759de98d09a225": {
          "model_module": "@jupyter-widgets/controls",
          "model_name": "DescriptionStyleModel",
          "model_module_version": "1.5.0",
          "state": {
            "_model_module": "@jupyter-widgets/controls",
            "_model_module_version": "1.5.0",
            "_model_name": "DescriptionStyleModel",
            "_view_count": null,
            "_view_module": "@jupyter-widgets/base",
            "_view_module_version": "1.2.0",
            "_view_name": "StyleView",
            "description_width": ""
          }
        }
      }
    }
  },
  "cells": [
    {
      "cell_type": "markdown",
      "metadata": {
        "id": "view-in-github",
        "colab_type": "text"
      },
      "source": [
        "<a href=\"https://colab.research.google.com/github/bitswired/bitsof-ai/blob/main/projects/debug-models-with-overfitting/Debug_Machine_Learning_Models_With_Overfitting.ipynb\" target=\"_parent\"><img src=\"https://colab.research.google.com/assets/colab-badge.svg\" alt=\"Open In Colab\"/></a>"
      ]
    },
    {
      "cell_type": "markdown",
      "source": [
        "# Debug Machine Learning Models With Overfitting"
      ],
      "metadata": {
        "id": "Hf4sWtDOkg_d"
      }
    },
    {
      "cell_type": "markdown",
      "source": [
        "## Download and import libraries"
      ],
      "metadata": {
        "id": "rZ6fuXKTktAv"
      }
    },
    {
      "cell_type": "code",
      "source": [
        "!pip install pytorch-lightning\n",
        "!pip install torchdata"
      ],
      "metadata": {
        "id": "QdLKWgzJXFTM"
      },
      "execution_count": null,
      "outputs": []
    },
    {
      "cell_type": "code",
      "execution_count": null,
      "metadata": {
        "id": "IZTqlpy1W-1h"
      },
      "outputs": [],
      "source": [
        "import numpy as np\n",
        "import itertools as it\n",
        "import matplotlib.pyplot as plt\n",
        "\n",
        "import pytorch_lightning as pl\n",
        "\n",
        "import torch\n",
        "import torch.nn as nn\n",
        "import torch.nn.functional as F\n",
        "from torch.utils.data import DataLoader\n",
        "\n",
        "import torchdata.datapipes as dp\n",
        "from torchdata.datapipes.iter import IterableWrapper"
      ]
    },
    {
      "cell_type": "code",
      "source": [
        "plt.style.use('dark_background')\n",
        "\n",
        "plt.rcParams.update({\n",
        "    \"figure.facecolor\":  \"#383838\",\n",
        "    \"axes.facecolor\":    \"#383838\"\n",
        "})"
      ],
      "metadata": {
        "id": "MBx5rFTp7pmW"
      },
      "execution_count": null,
      "outputs": []
    },
    {
      "cell_type": "markdown",
      "source": [
        "## Build a dummy dataset and create a loading pipeline with TorchData\n",
        "\n",
        "The data will simply be a sin function with some noise."
      ],
      "metadata": {
        "id": "JbWkav90kxZf"
      }
    },
    {
      "cell_type": "code",
      "source": [
        "def get_data_pipe(n_samples=1000, batch_size=10):\n",
        "    \"\"\"Function to get a data pipeline\"\"\"\n",
        "    dp = (\n",
        "        # Generate X data, eveleny spaced number betwwen 0 and 4\n",
        "        IterableWrapper(np.linspace(0, 4, n_samples, dtype=np.float32))\n",
        "        .map(lambda x: x.reshape(-1, 1))\n",
        "        # Rescale x between -1 and 1 and compute y = sin(x) + noise\n",
        "        .map(lambda x: (x / 2 - 1 , np.sin(x * 4) + np.random.randn()/10))\n",
        "        # Shuffle the data\n",
        "        .shuffle()\n",
        "        # Batch the data\n",
        "        .batch(batch_size)\n",
        "        # Collate to transform list of tuples to a tuple of tensors (x, y)\n",
        "        .collate()\n",
        "    )"
      ],
      "metadata": {
        "id": "_2PLbxFlYUeb"
      },
      "execution_count": null,
      "outputs": []
    },
    {
      "cell_type": "code",
      "source": [
        "# Plot samples from the data pipe\n",
        "\n",
        "pipe = get_data_pipe(batch_size=100)\n",
        "batch = list(it.islice(pipe, 3))[0]\n",
        "x, y = batch\n",
        "\n",
        "plt.scatter(x, y)\n",
        "plt.show()"
      ],
      "metadata": {
        "colab": {
          "base_uri": "https://localhost:8080/",
          "height": 265
        },
        "id": "pkOAnyN8_IUx",
        "outputId": "f2c0e42e-406d-4243-f8c3-0edf08dbe831"
      },
      "execution_count": null,
      "outputs": [
        {
          "output_type": "display_data",
          "data": {
            "text/plain": [
              "<Figure size 432x288 with 1 Axes>"
            ],
            "image/png": "[encoded data removed]"
          },
          "metadata": {}
        }
      ]
    },
    {
      "cell_type": "markdown",
      "source": [
        "## Modeling"
      ],
      "metadata": {
        "id": "dH9HWDx1k626"
      }
    },
    {
      "cell_type": "markdown",
      "source": [
        "### PyTorch Module\n",
        "\n",
        "We first build a simple PyTorch module, a neural net with 3 layers.\n",
        "\n",
        "It takes a parameter `with_error` to make voluntarily an error or not. \n",
        "\n",
        "It will be used to illustrate how overfitting can detect a buggy model.\n"
      ],
      "metadata": {
        "id": "zuGPq_9L_bFQ"
      }
    },
    {
      "cell_type": "code",
      "source": [
        "class SimpleNeuralNet(nn.Module):\n",
        "    \"\"\"PyTorch module to predict the sinusoidal data\"\"\"\n",
        "    def __init__(self, with_error=False):\n",
        "        super().__init__()\n",
        "        # Make a mistake volontarily\n",
        "        # The mistake is the use of the last ReLU activation\n",
        "        # It will make the model output only positive vales whereas sin \n",
        "        # can output negative values as well\n",
        "        # This kind of bug can be easy to miss when reading the code\n",
        "        if with_error:\n",
        "            self.layers = nn.Sequential(\n",
        "                nn.Linear(1, 50),\n",
        "                nn.ReLU(),\n",
        "                nn.Linear(50, 50),\n",
        "                nn.ReLU(),\n",
        "                nn.Linear(50, 1),\n",
        "                nn.ReLU(),\n",
        "            )\n",
        "        # Don't make the mistake\n",
        "        else:\n",
        "            self.layers = nn.Sequential(\n",
        "                nn.Linear(1, 50),\n",
        "                nn.ReLU(),\n",
        "                nn.Linear(50, 50),\n",
        "                nn.ReLU(),\n",
        "                nn.Linear(50, 1)\n",
        "            )"
      ],
      "metadata": {
        "id": "8vtihtsKYxFV"
      },
      "execution_count": null,
      "outputs": []
    },
    {
      "cell_type": "markdown",
      "source": [
        "### PyTorch Lightning Module\n",
        "\n",
        "We create a `LightningModule` to encapsulate the training logic for our model.\n",
        "\n",
        "It also takes a paremeter to decide if it will be an erroneous model or not.\n",
        "\n",
        "It uses the PyTorch module to make the prediction."
      ],
      "metadata": {
        "id": "d0QUAf7NAbXP"
      }
    },
    {
      "cell_type": "code",
      "source": [
        "class Model(pl.LightningModule):\n",
        "    def __init__(self, with_error=False):\n",
        "        super().__init__()\n",
        "        self.neural_net = SimpleNeuralNet(with_error)\n",
        "\n",
        "    def forward(self, x):\n",
        "        return self.neural_net(x)\n",
        "\n",
        "    def training_step(self, batch, batch_idx):\n",
        "        x, y = batch\n",
        "        x, y = (x.squeeze(0), y.squeeze(0))\n",
        "        y_hat = self(x)\n",
        "        loss = F.mse_loss(y_hat, y.squeeze(0))\n",
        "        return loss"
      ],
      "metadata": {
        "id": "XGhr5C6AbP9O"
      },
      "execution_count": null,
      "outputs": []
    },
    {
      "cell_type": "markdown",
      "source": [
        "## Detect the error with overfitting"
      ],
      "metadata": {
        "id": "goYe3-JmA2fz"
      }
    },
    {
      "cell_type": "code",
      "source": [
        "class MetricTracker(pl.Callback):\n",
        "    \"\"\"Custom callback to save the training loss per training steps\"\"\"\n",
        "    def __init__(self):\n",
        "        self.collection = []\n",
        "    \n",
        "    def on_train_batch_end(self, trainer, module, outputs, *args):\n",
        "        loss = outputs['loss']\n",
        "        self.collection.append(loss.cpu())"
      ],
      "metadata": {
        "id": "hvYrON1wblgd"
      },
      "execution_count": null,
      "outputs": []
    },
    {
      "cell_type": "code",
      "source": [
        "def overfit_and_get_averaged_loss(model):\n",
        "    \"\"\"Function to overfit the model on a small set of data and return\n",
        "       loss per steps to determine if there is a bug or not\"\"\"\n",
        "    # Seed for reproducibility\n",
        "    pl.seed_everything(7, workers=True)\n",
        "    # Create a metric tracker to get back the loss for each step after training\n",
        "    metric_tracker = MetricTracker()\n",
        "    # Create a dataloader for training\n",
        "    train_loader = DataLoader(get_data_pipe(n_samples=1000, batch_size=20))\n",
        "    # Creaate a trainer to overfit 10% of the data \n",
        "    trainer = pl.Trainer(overfit_batches=0.1, callbacks=[metric_tracker])\n",
        "    # Train the model (try to overfit 10% of the data)\n",
        "    trainer.fit(model, train_dataloaders=train_loader)\n",
        "\n",
        "    # Return the moving average over the loss with a window of 100 steps\n",
        "    N = 100\n",
        "    loss_running_mean = np.convolve(metric_tracker.collection, np.ones(N)/N, mode='valid')\n",
        "    return loss_running_mean"
      ],
      "metadata": {
        "id": "VQr4TitrjwwQ"
      },
      "execution_count": null,
      "outputs": []
    },
    {
      "cell_type": "markdown",
      "source": [
        "### Overfitting 10% of the training data"
      ],
      "metadata": {
        "id": "OWdUL96CCo3R"
      }
    },
    {
      "cell_type": "code",
      "source": [
        "# We create one buggy and one working model\n",
        "model_with_error = Model(with_error=True)\n",
        "model_without_error = Model(with_error=False)\n",
        "\n",
        "# We try to overfit the each model on a small set of training data and get back\n",
        "# the loss for each training steps averaged with a window of 100\n",
        "loss_with_error = overfit_and_get_averaged_loss(model_with_error)\n",
        "loss_without_error = overfit_and_get_averaged_loss(model_without_error)"
      ],
      "metadata": {
        "colab": {
          "base_uri": "https://localhost:8080/",
          "height": 746,
          "referenced_widgets": [
            "97431d7671f8463b904645071d3ebbe1",
            "44d697e50e574efc8607636b1e02512f",
            "2e380d0307e34a1997cba63f35f8e5fd",
            "ffdea2bebdc54687af76fb516e5611e4",
            "396550ded76d4f26b7b6e95c2bf2a3f4",
            "a1911c40fda44cc58ba999414f1dad64",
            "5b3ce075ee0c42ebbbfc7aca74797fcd",
            "2c73136cb1cc47e38951df761d0c2e95",
            "87c31ce1b88c4445a267b5ec5571a95a",
            "92a7354130c0449b9b6133e9d34afcbd",
            "8229cf90d1644525a4d7a7e3eacd2b18",
            "87906d4807c74fdfaad1e9e5de671945",
            "0189277d06b04a86b71fe468c8bcc045",
            "8cfef91ac6aa4156bae8ef955498caae",
            "e909922d7bc34234b5da5ed83fb007c4",
            "8fe98dab2f5844a6919227a1c0c168ca",
            "3a02aa20f5134a59986ff562efac189e",
            "673ad122d83c42eeb2eb08d5099bd86a",
            "9412e6ff24ff4f66b89c9b67ca27b518",
            "ad0f71ef2325454b975c350c93eba47e",
            "9e5f07499c47437e8f129d45040c200c",
            "6456b697c3f74a078f759de98d09a225"
          ]
        },
        "id": "YLU9f-eM1baE",
        "outputId": "2683a687-991f-49ec-eee7-6647bb3ffaca"
      },
      "execution_count": null,
      "outputs": [
        {
          "output_type": "stream",
          "name": "stderr",
          "text": [
            "Global seed set to 7\n",
            "/usr/local/lib/python3.7/dist-packages/pytorch_lightning/loops/utilities.py:94: PossibleUserWarning: `max_epochs` was not set. Setting it to 1000 epochs. To train without an epoch limit, set `max_epochs=-1`.\n",
            "  category=PossibleUserWarning,\n",
            "GPU available: False, used: False\n",
            "TPU available: False, using: 0 TPU cores\n",
            "IPU available: False, using: 0 IPUs\n",
            "HPU available: False, using: 0 HPUs\n",
            "\n",
            "  | Name       | Type            | Params\n",
            "-----------------------------------------------\n",
            "0 | neural_net | SimpleNeuralNet | 2.7 K \n",
            "-----------------------------------------------\n",
            "2.7 K     Trainable params\n",
            "0         Non-trainable params\n",
            "2.7 K     Total params\n",
            "0.011     Total estimated model params size (MB)\n",
            "/usr/local/lib/python3.7/dist-packages/pytorch_lightning/trainer/connectors/data_connector.py:472: UserWarning: You requested to overfit but enabled training dataloader shuffling. We are turning off the training dataloader shuffling for you.\n",
            "  \"You requested to overfit but enabled training dataloader shuffling.\"\n",
            "/usr/local/lib/python3.7/dist-packages/pytorch_lightning/utilities/data.py:107: UserWarning: Your `IterableDataset` has `__len__` defined. In combination with multi-process data loading (when num_workers > 1), `__len__` could be inaccurate if each worker is not configured independently to avoid having duplicate data.\n",
            "  \"Your `IterableDataset` has `__len__` defined.\"\n",
            "/usr/local/lib/python3.7/dist-packages/pytorch_lightning/trainer/trainer.py:1931: PossibleUserWarning: The number of training batches (5) is smaller than the logging interval Trainer(log_every_n_steps=50). Set a lower value for log_every_n_steps if you want to see logs for the training epoch.\n",
            "  category=PossibleUserWarning,\n"
          ]
        },
        {
          "output_type": "display_data",
          "data": {
            "text/plain": [
              "Training: 0it [00:00, ?it/s]"
            ],
            "application/vnd.jupyter.widget-view+json": {
              "version_major": 2,
              "version_minor": 0,
              "model_id": "97431d7671f8463b904645071d3ebbe1"
            }
          },
          "metadata": {}
        },
        {
          "output_type": "stream",
          "name": "stderr",
          "text": [
            "Global seed set to 7\n",
            "GPU available: False, used: False\n",
            "TPU available: False, using: 0 TPU cores\n",
            "IPU available: False, using: 0 IPUs\n",
            "HPU available: False, using: 0 HPUs\n",
            "\n",
            "  | Name       | Type            | Params\n",
            "-----------------------------------------------\n",
            "0 | neural_net | SimpleNeuralNet | 2.7 K \n",
            "-----------------------------------------------\n",
            "2.7 K     Trainable params\n",
            "0         Non-trainable params\n",
            "2.7 K     Total params\n",
            "0.011     Total estimated model params size (MB)\n"
          ]
        },
        {
          "output_type": "display_data",
          "data": {
            "text/plain": [
              "Training: 0it [00:00, ?it/s]"
            ],
            "application/vnd.jupyter.widget-view+json": {
              "version_major": 2,
              "version_minor": 0,
              "model_id": "87906d4807c74fdfaad1e9e5de671945"
            }
          },
          "metadata": {}
        }
      ]
    },
    {
      "cell_type": "markdown",
      "source": [
        "### Analyze the overfitting resutls for the buggy and the working models"
      ],
      "metadata": {
        "id": "nvTcN5nhCtK4"
      }
    },
    {
      "cell_type": "markdown",
      "source": [
        "You can observe the results after overfitting a small set of training data for buggy and the working models.\n",
        "\n",
        "**Buggy model**: the model is not improving over time, showing that something is wrong.\n",
        "\n",
        "**Working model**: the loss rapidly decreases showing that the model is learning."
      ],
      "metadata": {
        "id": "RiyUZBblC48O"
      }
    },
    {
      "cell_type": "code",
      "source": [
        "# Here we plot the running loss for the buggy and the working\n",
        "\n",
        "fig, axes = plt.subplots(1, 2, figsize=(15,5))\n",
        "\n",
        "fig.suptitle(\"Overfitting 10% of the training data\")\n",
        "\n",
        "\n",
        "axes[0].plot(loss_with_error)\n",
        "axes[0].set_title(\"With a buggy model\")\n",
        "axes[0].set_xlabel(\"Training steps\")\n",
        "axes[0].set_ylabel(\"Averaged loss\")\n",
        "\n",
        "axes[1].plot(loss_without_error)\n",
        "axes[1].set_title(\"With a working model\")\n",
        "axes[1].set_xlabel(\"Training steps\")\n",
        "axes[1].set_ylabel(\"Averaged loss\")\n",
        "\n",
        "\n",
        "plt.show()\n",
        "\n"
      ],
      "metadata": {
        "colab": {
          "base_uri": "https://localhost:8080/",
          "height": 370
        },
        "id": "Vz8CJp7Pj1jr",
        "outputId": "455716b8-9e94-4bdc-d1ec-59a338ffa7e7"
      },
      "execution_count": null,
      "outputs": [
        {
          "output_type": "display_data",
          "data": {
            "text/plain": [
              "<Figure size 1080x360 with 2 Axes>"
            ],
            "image/png": "[encoded data removed]"
          },
          "metadata": {}
        }
      ]
    }
  ]
}
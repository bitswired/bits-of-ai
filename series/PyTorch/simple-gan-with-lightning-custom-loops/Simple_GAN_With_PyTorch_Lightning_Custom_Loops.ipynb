{
  "nbformat": 4,
  "nbformat_minor": 0,
  "metadata": {
    "colab": {
      "name": "Simple GAN With PyTorch Lightning Custom Loops.ipynb",
      "provenance": [],
      "authorship_tag": "ABX9TyOpQqYwhOCo9BDWQE3ZWqg3",
      "include_colab_link": true
    },
    "kernelspec": {
      "name": "python3",
      "display_name": "Python 3"
    },
    "language_info": {
      "name": "python"
    }
  },
  "cells": [
    {
      "cell_type": "markdown",
      "metadata": {
        "id": "view-in-github",
        "colab_type": "text"
      },
      "source": [
        "<a href=\"https://colab.research.google.com/github/bitswired/bitsof-ai/blob/main/series/PyTorch/simple-gan-with-lightning-custom-loops/Simple_GAN_With_PyTorch_Lightning_Custom_Loops.ipynb\" target=\"_parent\"><img src=\"https://colab.research.google.com/assets/colab-badge.svg\" alt=\"Open In Colab\"/></a>"
      ]
    },
    {
      "cell_type": "code",
      "execution_count": null,
      "metadata": {
        "id": "vqw89nXnYjO5"
      },
      "outputs": [],
      "source": [
        "!pip install pytorch-lightning"
      ]
    },
    {
      "cell_type": "code",
      "source": [
        ""
      ],
      "metadata": {
        "id": "8VRg6MlqYzy0"
      },
      "execution_count": null,
      "outputs": []
    }
  ]
}